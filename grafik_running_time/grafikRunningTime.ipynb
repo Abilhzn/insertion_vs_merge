{
 "cells": [
  {
   "cell_type": "code",
   "execution_count": null,
   "metadata": {},
   "outputs": [],
   "source": [
    "import matplotlib.pylot as plt\n",
    "\n",
    "def ukuranWaktu():\n",
    "    ukuranData = []\n",
    "    waktuItr = []\n",
    "    waktuRsf = []\n",
    "    for n in ukuranWaktu :\n",
    "        data_penjualan = [x``]"
   ]
  }
 ],
 "metadata": {
  "kernelspec": {
   "display_name": "Python 3",
   "language": "python",
   "name": "python3"
  },
  "language_info": {
   "name": "python",
   "version": "3.12.3"
  }
 },
 "nbformat": 4,
 "nbformat_minor": 2
}
